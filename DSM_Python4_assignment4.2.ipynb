{
 "cells": [
  {
   "cell_type": "code",
   "execution_count": 6,
   "metadata": {},
   "outputs": [
    {
     "name": "stdout",
     "output_type": "stream",
     "text": [
      "length of words are:  [3, 3, 3, 3, 3]\n"
     ]
    }
   ],
   "source": [
    "word=list(map(str,input(\"enter the words: \").split(\" \")))\n",
    "def lenlet(x): return len(x)\n",
    "ans=list(map(lenlet,word))\n",
    "print(\"length of words are: \", ans)"
   ]
  },
  {
   "cell_type": "code",
   "execution_count": 7,
   "metadata": {},
   "outputs": [
    {
     "name": "stdout",
     "output_type": "stream",
     "text": [
      "True\n"
     ]
    }
   ],
   "source": [
    "l=input(\"Input a letter of the alphabet:\")\n",
    "if l in ('a','e','i','o','u','A','E','I','O','U'):\n",
    "    print(\"True\")\n",
    "else: \n",
    "    print(\"False\")\n"
   ]
  },
  {
   "cell_type": "code",
   "execution_count": 8,
   "metadata": {},
   "outputs": [
    {
     "name": "stdout",
     "output_type": "stream",
     "text": [
      "False\n"
     ]
    }
   ],
   "source": [
    "l=input(\"Input a letter of the alphabet:\")\n",
    "if l in ('a','e','i','o','u','A','E','I','O','U'):\n",
    "    print(\"True\")\n",
    "else: \n",
    "    print(\"False\")"
   ]
  },
  {
   "cell_type": "code",
   "execution_count": null,
   "metadata": {},
   "outputs": [],
   "source": []
  }
 ],
 "metadata": {
  "kernelspec": {
   "display_name": "Python 3",
   "language": "python",
   "name": "python3"
  },
  "language_info": {
   "codemirror_mode": {
    "name": "ipython",
    "version": 3
   },
   "file_extension": ".py",
   "mimetype": "text/x-python",
   "name": "python",
   "nbconvert_exporter": "python",
   "pygments_lexer": "ipython3",
   "version": "3.6.4"
  }
 },
 "nbformat": 4,
 "nbformat_minor": 2
}
